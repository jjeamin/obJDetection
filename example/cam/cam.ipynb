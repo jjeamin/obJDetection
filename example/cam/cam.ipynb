{
 "cells": [
  {
   "cell_type": "code",
   "execution_count": 1,
   "metadata": {},
   "outputs": [],
   "source": [
    "import os\n",
    "import sys\n",
    "\n",
    "sys.path.append(os.path.dirname(os.path.abspath(os.path.dirname('../..'))))\n",
    "\n",
    "import torch\n",
    "import numpy as np\n",
    "from models.Feature.GooLeNet import GoogLeNet"
   ]
  },
  {
   "cell_type": "code",
   "execution_count": 2,
   "metadata": {},
   "outputs": [],
   "source": [
    "if torch.cuda.is_available():\n",
    "    device = 'cuda'\n",
    "    torch.set_default_tensor_type('torch.cuda.FloatTensor')\n",
    "else:\n",
    "    device = 'cpu'\n",
    "    torch.set_default_tensor_type('torch.FloatTensor')"
   ]
  },
  {
   "cell_type": "code",
   "execution_count": 3,
   "metadata": {},
   "outputs": [],
   "source": [
    "class_name = ['airplane', 'automobile', 'bird', 'cat', 'deer', 'dog', 'frog', 'horse', 'ship', 'truck']"
   ]
  },
  {
   "cell_type": "code",
   "execution_count": 4,
   "metadata": {},
   "outputs": [],
   "source": [
    "model = GoogLeNet(classes=len(class_name)).to(device)"
   ]
  },
  {
   "cell_type": "code",
   "execution_count": 5,
   "metadata": {},
   "outputs": [
    {
     "data": {
      "text/plain": [
       "IncompatibleKeys(missing_keys=[], unexpected_keys=[])"
      ]
     },
     "execution_count": 5,
     "metadata": {},
     "output_type": "execute_result"
    }
   ],
   "source": [
    "model.load_state_dict(torch.load('inception_v1_cifar10_model.pth'))"
   ]
  },
  {
   "cell_type": "code",
   "execution_count": 6,
   "metadata": {},
   "outputs": [],
   "source": [
    "feature_blobs = []"
   ]
  },
  {
   "cell_type": "code",
   "execution_count": 7,
   "metadata": {},
   "outputs": [],
   "source": [
    "def hook_feature(module, input, output):\n",
    "    feature_blobs.append(output.cpu().data.numpy())"
   ]
  },
  {
   "cell_type": "code",
   "execution_count": 8,
   "metadata": {},
   "outputs": [
    {
     "data": {
      "text/plain": [
       "OrderedDict([('pre_layers', Sequential(\n",
       "                (0): Conv2d(3, 192, kernel_size=(3, 3), stride=(1, 1), padding=(1, 1))\n",
       "                (1): BatchNorm2d(192, eps=1e-05, momentum=0.1, affine=True, track_running_stats=True)\n",
       "                (2): ReLU(inplace)\n",
       "              )), ('a3', Inceptionv1(\n",
       "                (branch1): Sequential(\n",
       "                  (0): Conv2d(192, 64, kernel_size=(1, 1), stride=(1, 1))\n",
       "                  (1): BatchNorm2d(64, eps=1e-05, momentum=0.1, affine=True, track_running_stats=True)\n",
       "                  (2): ReLU(inplace)\n",
       "                )\n",
       "                (branch2): Sequential(\n",
       "                  (0): Conv2d(192, 96, kernel_size=(1, 1), stride=(1, 1))\n",
       "                  (1): BatchNorm2d(96, eps=1e-05, momentum=0.1, affine=True, track_running_stats=True)\n",
       "                  (2): ReLU(inplace)\n",
       "                  (3): Conv2d(96, 128, kernel_size=(3, 3), stride=(1, 1), padding=(1, 1))\n",
       "                  (4): BatchNorm2d(128, eps=1e-05, momentum=0.1, affine=True, track_running_stats=True)\n",
       "                  (5): ReLU(inplace)\n",
       "                )\n",
       "                (branch3): Sequential(\n",
       "                  (0): Conv2d(192, 16, kernel_size=(1, 1), stride=(1, 1))\n",
       "                  (1): BatchNorm2d(16, eps=1e-05, momentum=0.1, affine=True, track_running_stats=True)\n",
       "                  (2): ReLU(inplace)\n",
       "                  (3): Conv2d(16, 32, kernel_size=(3, 3), stride=(1, 1), padding=(1, 1))\n",
       "                  (4): BatchNorm2d(32, eps=1e-05, momentum=0.1, affine=True, track_running_stats=True)\n",
       "                  (5): ReLU(inplace)\n",
       "                  (6): Conv2d(32, 32, kernel_size=(3, 3), stride=(1, 1), padding=(1, 1))\n",
       "                  (7): BatchNorm2d(32, eps=1e-05, momentum=0.1, affine=True, track_running_stats=True)\n",
       "                  (8): ReLU(inplace)\n",
       "                )\n",
       "                (branch4): Sequential(\n",
       "                  (0): MaxPool2d(kernel_size=3, stride=1, padding=1, dilation=1, ceil_mode=False)\n",
       "                  (1): Conv2d(192, 32, kernel_size=(1, 1), stride=(1, 1))\n",
       "                  (2): BatchNorm2d(32, eps=1e-05, momentum=0.1, affine=True, track_running_stats=True)\n",
       "                  (3): ReLU(inplace)\n",
       "                )\n",
       "              )), ('b3', Inceptionv1(\n",
       "                (branch1): Sequential(\n",
       "                  (0): Conv2d(256, 128, kernel_size=(1, 1), stride=(1, 1))\n",
       "                  (1): BatchNorm2d(128, eps=1e-05, momentum=0.1, affine=True, track_running_stats=True)\n",
       "                  (2): ReLU(inplace)\n",
       "                )\n",
       "                (branch2): Sequential(\n",
       "                  (0): Conv2d(256, 128, kernel_size=(1, 1), stride=(1, 1))\n",
       "                  (1): BatchNorm2d(128, eps=1e-05, momentum=0.1, affine=True, track_running_stats=True)\n",
       "                  (2): ReLU(inplace)\n",
       "                  (3): Conv2d(128, 192, kernel_size=(3, 3), stride=(1, 1), padding=(1, 1))\n",
       "                  (4): BatchNorm2d(192, eps=1e-05, momentum=0.1, affine=True, track_running_stats=True)\n",
       "                  (5): ReLU(inplace)\n",
       "                )\n",
       "                (branch3): Sequential(\n",
       "                  (0): Conv2d(256, 32, kernel_size=(1, 1), stride=(1, 1))\n",
       "                  (1): BatchNorm2d(32, eps=1e-05, momentum=0.1, affine=True, track_running_stats=True)\n",
       "                  (2): ReLU(inplace)\n",
       "                  (3): Conv2d(32, 96, kernel_size=(3, 3), stride=(1, 1), padding=(1, 1))\n",
       "                  (4): BatchNorm2d(96, eps=1e-05, momentum=0.1, affine=True, track_running_stats=True)\n",
       "                  (5): ReLU(inplace)\n",
       "                  (6): Conv2d(96, 96, kernel_size=(3, 3), stride=(1, 1), padding=(1, 1))\n",
       "                  (7): BatchNorm2d(96, eps=1e-05, momentum=0.1, affine=True, track_running_stats=True)\n",
       "                  (8): ReLU(inplace)\n",
       "                )\n",
       "                (branch4): Sequential(\n",
       "                  (0): MaxPool2d(kernel_size=3, stride=1, padding=1, dilation=1, ceil_mode=False)\n",
       "                  (1): Conv2d(256, 64, kernel_size=(1, 1), stride=(1, 1))\n",
       "                  (2): BatchNorm2d(64, eps=1e-05, momentum=0.1, affine=True, track_running_stats=True)\n",
       "                  (3): ReLU(inplace)\n",
       "                )\n",
       "              )), ('maxpool',\n",
       "              MaxPool2d(kernel_size=3, stride=2, padding=1, dilation=1, ceil_mode=False)), ('a4',\n",
       "              Inceptionv1(\n",
       "                (branch1): Sequential(\n",
       "                  (0): Conv2d(480, 192, kernel_size=(1, 1), stride=(1, 1))\n",
       "                  (1): BatchNorm2d(192, eps=1e-05, momentum=0.1, affine=True, track_running_stats=True)\n",
       "                  (2): ReLU(inplace)\n",
       "                )\n",
       "                (branch2): Sequential(\n",
       "                  (0): Conv2d(480, 96, kernel_size=(1, 1), stride=(1, 1))\n",
       "                  (1): BatchNorm2d(96, eps=1e-05, momentum=0.1, affine=True, track_running_stats=True)\n",
       "                  (2): ReLU(inplace)\n",
       "                  (3): Conv2d(96, 208, kernel_size=(3, 3), stride=(1, 1), padding=(1, 1))\n",
       "                  (4): BatchNorm2d(208, eps=1e-05, momentum=0.1, affine=True, track_running_stats=True)\n",
       "                  (5): ReLU(inplace)\n",
       "                )\n",
       "                (branch3): Sequential(\n",
       "                  (0): Conv2d(480, 16, kernel_size=(1, 1), stride=(1, 1))\n",
       "                  (1): BatchNorm2d(16, eps=1e-05, momentum=0.1, affine=True, track_running_stats=True)\n",
       "                  (2): ReLU(inplace)\n",
       "                  (3): Conv2d(16, 48, kernel_size=(3, 3), stride=(1, 1), padding=(1, 1))\n",
       "                  (4): BatchNorm2d(48, eps=1e-05, momentum=0.1, affine=True, track_running_stats=True)\n",
       "                  (5): ReLU(inplace)\n",
       "                  (6): Conv2d(48, 48, kernel_size=(3, 3), stride=(1, 1), padding=(1, 1))\n",
       "                  (7): BatchNorm2d(48, eps=1e-05, momentum=0.1, affine=True, track_running_stats=True)\n",
       "                  (8): ReLU(inplace)\n",
       "                )\n",
       "                (branch4): Sequential(\n",
       "                  (0): MaxPool2d(kernel_size=3, stride=1, padding=1, dilation=1, ceil_mode=False)\n",
       "                  (1): Conv2d(480, 64, kernel_size=(1, 1), stride=(1, 1))\n",
       "                  (2): BatchNorm2d(64, eps=1e-05, momentum=0.1, affine=True, track_running_stats=True)\n",
       "                  (3): ReLU(inplace)\n",
       "                )\n",
       "              )), ('b4', Inceptionv1(\n",
       "                (branch1): Sequential(\n",
       "                  (0): Conv2d(512, 160, kernel_size=(1, 1), stride=(1, 1))\n",
       "                  (1): BatchNorm2d(160, eps=1e-05, momentum=0.1, affine=True, track_running_stats=True)\n",
       "                  (2): ReLU(inplace)\n",
       "                )\n",
       "                (branch2): Sequential(\n",
       "                  (0): Conv2d(512, 112, kernel_size=(1, 1), stride=(1, 1))\n",
       "                  (1): BatchNorm2d(112, eps=1e-05, momentum=0.1, affine=True, track_running_stats=True)\n",
       "                  (2): ReLU(inplace)\n",
       "                  (3): Conv2d(112, 224, kernel_size=(3, 3), stride=(1, 1), padding=(1, 1))\n",
       "                  (4): BatchNorm2d(224, eps=1e-05, momentum=0.1, affine=True, track_running_stats=True)\n",
       "                  (5): ReLU(inplace)\n",
       "                )\n",
       "                (branch3): Sequential(\n",
       "                  (0): Conv2d(512, 24, kernel_size=(1, 1), stride=(1, 1))\n",
       "                  (1): BatchNorm2d(24, eps=1e-05, momentum=0.1, affine=True, track_running_stats=True)\n",
       "                  (2): ReLU(inplace)\n",
       "                  (3): Conv2d(24, 64, kernel_size=(3, 3), stride=(1, 1), padding=(1, 1))\n",
       "                  (4): BatchNorm2d(64, eps=1e-05, momentum=0.1, affine=True, track_running_stats=True)\n",
       "                  (5): ReLU(inplace)\n",
       "                  (6): Conv2d(64, 64, kernel_size=(3, 3), stride=(1, 1), padding=(1, 1))\n",
       "                  (7): BatchNorm2d(64, eps=1e-05, momentum=0.1, affine=True, track_running_stats=True)\n",
       "                  (8): ReLU(inplace)\n",
       "                )\n",
       "                (branch4): Sequential(\n",
       "                  (0): MaxPool2d(kernel_size=3, stride=1, padding=1, dilation=1, ceil_mode=False)\n",
       "                  (1): Conv2d(512, 64, kernel_size=(1, 1), stride=(1, 1))\n",
       "                  (2): BatchNorm2d(64, eps=1e-05, momentum=0.1, affine=True, track_running_stats=True)\n",
       "                  (3): ReLU(inplace)\n",
       "                )\n",
       "              )), ('c4', Inceptionv1(\n",
       "                (branch1): Sequential(\n",
       "                  (0): Conv2d(512, 128, kernel_size=(1, 1), stride=(1, 1))\n",
       "                  (1): BatchNorm2d(128, eps=1e-05, momentum=0.1, affine=True, track_running_stats=True)\n",
       "                  (2): ReLU(inplace)\n",
       "                )\n",
       "                (branch2): Sequential(\n",
       "                  (0): Conv2d(512, 128, kernel_size=(1, 1), stride=(1, 1))\n",
       "                  (1): BatchNorm2d(128, eps=1e-05, momentum=0.1, affine=True, track_running_stats=True)\n",
       "                  (2): ReLU(inplace)\n",
       "                  (3): Conv2d(128, 256, kernel_size=(3, 3), stride=(1, 1), padding=(1, 1))\n",
       "                  (4): BatchNorm2d(256, eps=1e-05, momentum=0.1, affine=True, track_running_stats=True)\n",
       "                  (5): ReLU(inplace)\n",
       "                )\n",
       "                (branch3): Sequential(\n",
       "                  (0): Conv2d(512, 24, kernel_size=(1, 1), stride=(1, 1))\n",
       "                  (1): BatchNorm2d(24, eps=1e-05, momentum=0.1, affine=True, track_running_stats=True)\n",
       "                  (2): ReLU(inplace)\n",
       "                  (3): Conv2d(24, 64, kernel_size=(3, 3), stride=(1, 1), padding=(1, 1))\n",
       "                  (4): BatchNorm2d(64, eps=1e-05, momentum=0.1, affine=True, track_running_stats=True)\n",
       "                  (5): ReLU(inplace)\n",
       "                  (6): Conv2d(64, 64, kernel_size=(3, 3), stride=(1, 1), padding=(1, 1))\n",
       "                  (7): BatchNorm2d(64, eps=1e-05, momentum=0.1, affine=True, track_running_stats=True)\n",
       "                  (8): ReLU(inplace)\n",
       "                )\n",
       "                (branch4): Sequential(\n",
       "                  (0): MaxPool2d(kernel_size=3, stride=1, padding=1, dilation=1, ceil_mode=False)\n",
       "                  (1): Conv2d(512, 64, kernel_size=(1, 1), stride=(1, 1))\n",
       "                  (2): BatchNorm2d(64, eps=1e-05, momentum=0.1, affine=True, track_running_stats=True)\n",
       "                  (3): ReLU(inplace)\n",
       "                )\n",
       "              )), ('d4', Inceptionv1(\n",
       "                (branch1): Sequential(\n",
       "                  (0): Conv2d(512, 112, kernel_size=(1, 1), stride=(1, 1))\n",
       "                  (1): BatchNorm2d(112, eps=1e-05, momentum=0.1, affine=True, track_running_stats=True)\n",
       "                  (2): ReLU(inplace)\n",
       "                )\n",
       "                (branch2): Sequential(\n",
       "                  (0): Conv2d(512, 144, kernel_size=(1, 1), stride=(1, 1))\n",
       "                  (1): BatchNorm2d(144, eps=1e-05, momentum=0.1, affine=True, track_running_stats=True)\n",
       "                  (2): ReLU(inplace)\n",
       "                  (3): Conv2d(144, 288, kernel_size=(3, 3), stride=(1, 1), padding=(1, 1))\n",
       "                  (4): BatchNorm2d(288, eps=1e-05, momentum=0.1, affine=True, track_running_stats=True)\n",
       "                  (5): ReLU(inplace)\n",
       "                )\n",
       "                (branch3): Sequential(\n",
       "                  (0): Conv2d(512, 32, kernel_size=(1, 1), stride=(1, 1))\n",
       "                  (1): BatchNorm2d(32, eps=1e-05, momentum=0.1, affine=True, track_running_stats=True)\n",
       "                  (2): ReLU(inplace)\n",
       "                  (3): Conv2d(32, 64, kernel_size=(3, 3), stride=(1, 1), padding=(1, 1))\n",
       "                  (4): BatchNorm2d(64, eps=1e-05, momentum=0.1, affine=True, track_running_stats=True)\n",
       "                  (5): ReLU(inplace)\n",
       "                  (6): Conv2d(64, 64, kernel_size=(3, 3), stride=(1, 1), padding=(1, 1))\n",
       "                  (7): BatchNorm2d(64, eps=1e-05, momentum=0.1, affine=True, track_running_stats=True)\n",
       "                  (8): ReLU(inplace)\n",
       "                )\n",
       "                (branch4): Sequential(\n",
       "                  (0): MaxPool2d(kernel_size=3, stride=1, padding=1, dilation=1, ceil_mode=False)\n",
       "                  (1): Conv2d(512, 64, kernel_size=(1, 1), stride=(1, 1))\n",
       "                  (2): BatchNorm2d(64, eps=1e-05, momentum=0.1, affine=True, track_running_stats=True)\n",
       "                  (3): ReLU(inplace)\n",
       "                )\n",
       "              )), ('e4', Inceptionv1(\n",
       "                (branch1): Sequential(\n",
       "                  (0): Conv2d(528, 256, kernel_size=(1, 1), stride=(1, 1))\n",
       "                  (1): BatchNorm2d(256, eps=1e-05, momentum=0.1, affine=True, track_running_stats=True)\n",
       "                  (2): ReLU(inplace)\n",
       "                )\n",
       "                (branch2): Sequential(\n",
       "                  (0): Conv2d(528, 160, kernel_size=(1, 1), stride=(1, 1))\n",
       "                  (1): BatchNorm2d(160, eps=1e-05, momentum=0.1, affine=True, track_running_stats=True)\n",
       "                  (2): ReLU(inplace)\n",
       "                  (3): Conv2d(160, 320, kernel_size=(3, 3), stride=(1, 1), padding=(1, 1))\n",
       "                  (4): BatchNorm2d(320, eps=1e-05, momentum=0.1, affine=True, track_running_stats=True)\n",
       "                  (5): ReLU(inplace)\n",
       "                )\n",
       "                (branch3): Sequential(\n",
       "                  (0): Conv2d(528, 32, kernel_size=(1, 1), stride=(1, 1))\n",
       "                  (1): BatchNorm2d(32, eps=1e-05, momentum=0.1, affine=True, track_running_stats=True)\n",
       "                  (2): ReLU(inplace)\n",
       "                  (3): Conv2d(32, 128, kernel_size=(3, 3), stride=(1, 1), padding=(1, 1))\n",
       "                  (4): BatchNorm2d(128, eps=1e-05, momentum=0.1, affine=True, track_running_stats=True)\n",
       "                  (5): ReLU(inplace)\n",
       "                  (6): Conv2d(128, 128, kernel_size=(3, 3), stride=(1, 1), padding=(1, 1))\n",
       "                  (7): BatchNorm2d(128, eps=1e-05, momentum=0.1, affine=True, track_running_stats=True)\n",
       "                  (8): ReLU(inplace)\n",
       "                )\n",
       "                (branch4): Sequential(\n",
       "                  (0): MaxPool2d(kernel_size=3, stride=1, padding=1, dilation=1, ceil_mode=False)\n",
       "                  (1): Conv2d(528, 128, kernel_size=(1, 1), stride=(1, 1))\n",
       "                  (2): BatchNorm2d(128, eps=1e-05, momentum=0.1, affine=True, track_running_stats=True)\n",
       "                  (3): ReLU(inplace)\n",
       "                )\n",
       "              )), ('a5', Inceptionv1(\n",
       "                (branch1): Sequential(\n",
       "                  (0): Conv2d(832, 256, kernel_size=(1, 1), stride=(1, 1))\n",
       "                  (1): BatchNorm2d(256, eps=1e-05, momentum=0.1, affine=True, track_running_stats=True)\n",
       "                  (2): ReLU(inplace)\n",
       "                )\n",
       "                (branch2): Sequential(\n",
       "                  (0): Conv2d(832, 160, kernel_size=(1, 1), stride=(1, 1))\n",
       "                  (1): BatchNorm2d(160, eps=1e-05, momentum=0.1, affine=True, track_running_stats=True)\n",
       "                  (2): ReLU(inplace)\n",
       "                  (3): Conv2d(160, 320, kernel_size=(3, 3), stride=(1, 1), padding=(1, 1))\n",
       "                  (4): BatchNorm2d(320, eps=1e-05, momentum=0.1, affine=True, track_running_stats=True)\n",
       "                  (5): ReLU(inplace)\n",
       "                )\n",
       "                (branch3): Sequential(\n",
       "                  (0): Conv2d(832, 32, kernel_size=(1, 1), stride=(1, 1))\n",
       "                  (1): BatchNorm2d(32, eps=1e-05, momentum=0.1, affine=True, track_running_stats=True)\n",
       "                  (2): ReLU(inplace)\n",
       "                  (3): Conv2d(32, 128, kernel_size=(3, 3), stride=(1, 1), padding=(1, 1))\n",
       "                  (4): BatchNorm2d(128, eps=1e-05, momentum=0.1, affine=True, track_running_stats=True)\n",
       "                  (5): ReLU(inplace)\n",
       "                  (6): Conv2d(128, 128, kernel_size=(3, 3), stride=(1, 1), padding=(1, 1))\n",
       "                  (7): BatchNorm2d(128, eps=1e-05, momentum=0.1, affine=True, track_running_stats=True)\n",
       "                  (8): ReLU(inplace)\n",
       "                )\n",
       "                (branch4): Sequential(\n",
       "                  (0): MaxPool2d(kernel_size=3, stride=1, padding=1, dilation=1, ceil_mode=False)\n",
       "                  (1): Conv2d(832, 128, kernel_size=(1, 1), stride=(1, 1))\n",
       "                  (2): BatchNorm2d(128, eps=1e-05, momentum=0.1, affine=True, track_running_stats=True)\n",
       "                  (3): ReLU(inplace)\n",
       "                )\n",
       "              )), ('b5', Inceptionv1(\n",
       "                (branch1): Sequential(\n",
       "                  (0): Conv2d(832, 384, kernel_size=(1, 1), stride=(1, 1))\n",
       "                  (1): BatchNorm2d(384, eps=1e-05, momentum=0.1, affine=True, track_running_stats=True)\n",
       "                  (2): ReLU(inplace)\n",
       "                )\n",
       "                (branch2): Sequential(\n",
       "                  (0): Conv2d(832, 192, kernel_size=(1, 1), stride=(1, 1))\n",
       "                  (1): BatchNorm2d(192, eps=1e-05, momentum=0.1, affine=True, track_running_stats=True)\n",
       "                  (2): ReLU(inplace)\n",
       "                  (3): Conv2d(192, 384, kernel_size=(3, 3), stride=(1, 1), padding=(1, 1))\n",
       "                  (4): BatchNorm2d(384, eps=1e-05, momentum=0.1, affine=True, track_running_stats=True)\n",
       "                  (5): ReLU(inplace)\n",
       "                )\n",
       "                (branch3): Sequential(\n",
       "                  (0): Conv2d(832, 48, kernel_size=(1, 1), stride=(1, 1))\n",
       "                  (1): BatchNorm2d(48, eps=1e-05, momentum=0.1, affine=True, track_running_stats=True)\n",
       "                  (2): ReLU(inplace)\n",
       "                  (3): Conv2d(48, 128, kernel_size=(3, 3), stride=(1, 1), padding=(1, 1))\n",
       "                  (4): BatchNorm2d(128, eps=1e-05, momentum=0.1, affine=True, track_running_stats=True)\n",
       "                  (5): ReLU(inplace)\n",
       "                  (6): Conv2d(128, 128, kernel_size=(3, 3), stride=(1, 1), padding=(1, 1))\n",
       "                  (7): BatchNorm2d(128, eps=1e-05, momentum=0.1, affine=True, track_running_stats=True)\n",
       "                  (8): ReLU(inplace)\n",
       "                )\n",
       "                (branch4): Sequential(\n",
       "                  (0): MaxPool2d(kernel_size=3, stride=1, padding=1, dilation=1, ceil_mode=False)\n",
       "                  (1): Conv2d(832, 128, kernel_size=(1, 1), stride=(1, 1))\n",
       "                  (2): BatchNorm2d(128, eps=1e-05, momentum=0.1, affine=True, track_running_stats=True)\n",
       "                  (3): ReLU(inplace)\n",
       "                )\n",
       "              )), ('avgpool',\n",
       "              AvgPool2d(kernel_size=8, stride=1, padding=0)), ('linear', Linear(in_features=1024, out_features=10, bias=True))])"
      ]
     },
     "execution_count": 8,
     "metadata": {},
     "output_type": "execute_result"
    }
   ],
   "source": [
    "model._modules"
   ]
  },
  {
   "cell_type": "code",
   "execution_count": 9,
   "metadata": {},
   "outputs": [
    {
     "data": {
      "text/plain": [
       "<torch.utils.hooks.RemovableHandle at 0x2699199a630>"
      ]
     },
     "execution_count": 9,
     "metadata": {},
     "output_type": "execute_result"
    }
   ],
   "source": [
    "model._modules.get('b5').register_forward_hook(hook_feature)"
   ]
  },
  {
   "cell_type": "code",
   "execution_count": 10,
   "metadata": {},
   "outputs": [],
   "source": [
    "params = list(model.parameters())"
   ]
  },
  {
   "cell_type": "code",
   "execution_count": 11,
   "metadata": {},
   "outputs": [],
   "source": [
    "class_weights = np.squeeze(params[-2].cpu().data.numpy())"
   ]
  },
  {
   "cell_type": "code",
   "execution_count": 12,
   "metadata": {},
   "outputs": [],
   "source": [
    "from PIL import Image\n",
    "import matplotlib.pyplot as plt\n",
    "\n",
    "img_path = './test4.png'\n",
    "\n",
    "img = Image.open(img_path)"
   ]
  },
  {
   "cell_type": "code",
   "execution_count": 13,
   "metadata": {},
   "outputs": [
    {
     "data": {
      "text/plain": [
       "<matplotlib.image.AxesImage at 0x269b893b518>"
      ]
     },
     "execution_count": 13,
     "metadata": {},
     "output_type": "execute_result"
    },
    {
     "data": {
      "image/png": "[encoded data removed]",
      "text/plain": [
       "<Figure size 432x288 with 1 Axes>"
      ]
     },
     "metadata": {
      "needs_background": "light"
     },
     "output_type": "display_data"
    }
   ],
   "source": [
    "plt.imshow(img)"
   ]
  },
  {
   "cell_type": "code",
   "execution_count": 14,
   "metadata": {},
   "outputs": [],
   "source": [
    "import torchvision.transforms as transforms\n",
    "\n",
    "cvt_tensor = transforms.ToTensor()\n",
    "\n",
    "tensor_img = cvt_tensor(img).to(device)"
   ]
  },
  {
   "cell_type": "code",
   "execution_count": 15,
   "metadata": {},
   "outputs": [],
   "source": [
    "tensor_img = tensor_img.view(1, 3, 32, 32)"
   ]
  },
  {
   "cell_type": "code",
   "execution_count": 16,
   "metadata": {},
   "outputs": [],
   "source": [
    "output = model(tensor_img)"
   ]
  },
  {
   "cell_type": "code",
   "execution_count": 17,
   "metadata": {},
   "outputs": [],
   "source": [
    "from torch.nn import functional as F\n",
    "\n",
    "h_x = F.softmax(output, dim=1).data.squeeze()"
   ]
  },
  {
   "cell_type": "code",
   "execution_count": 18,
   "metadata": {},
   "outputs": [
    {
     "data": {
      "text/plain": [
       "torch.return_types.sort(\n",
       "values=tensor([5.9461e-01, 4.0404e-01, 7.8578e-04, 2.6229e-04, 2.3669e-04, 4.3063e-05,\n",
       "        1.0726e-05, 3.6676e-06, 1.6180e-07, 1.5821e-07]),\n",
       "indices=tensor([5, 3, 9, 6, 2, 1, 8, 0, 4, 7]))"
      ]
     },
     "execution_count": 18,
     "metadata": {},
     "output_type": "execute_result"
    }
   ],
   "source": [
    "h_x.sort(0, True)"
   ]
  },
  {
   "cell_type": "code",
   "execution_count": 19,
   "metadata": {},
   "outputs": [
    {
     "name": "stdout",
     "output_type": "stream",
     "text": [
      "5\n"
     ]
    }
   ],
   "source": [
    "pred = h_x.argmax(0).item()\n",
    "print(pred)"
   ]
  },
  {
   "cell_type": "code",
   "execution_count": 20,
   "metadata": {},
   "outputs": [
    {
     "data": {
      "text/plain": [
       "'dog'"
      ]
     },
     "execution_count": 20,
     "metadata": {},
     "output_type": "execute_result"
    }
   ],
   "source": [
    "class_name[pred]"
   ]
  },
  {
   "cell_type": "code",
   "execution_count": 21,
   "metadata": {},
   "outputs": [
    {
     "data": {
      "text/plain": [
       "(1024, 8, 8)"
      ]
     },
     "execution_count": 21,
     "metadata": {},
     "output_type": "execute_result"
    }
   ],
   "source": [
    "feature_blobs[0][0].shape"
   ]
  },
  {
   "cell_type": "code",
   "execution_count": 22,
   "metadata": {},
   "outputs": [
    {
     "data": {
      "text/plain": [
       "(10, 1024)"
      ]
     },
     "execution_count": 22,
     "metadata": {},
     "output_type": "execute_result"
    }
   ],
   "source": [
    "class_weights.shape"
   ]
  },
  {
   "cell_type": "code",
   "execution_count": 23,
   "metadata": {},
   "outputs": [],
   "source": [
    "final_conv = feature_blobs[0][0]"
   ]
  },
  {
   "cell_type": "code",
   "execution_count": 24,
   "metadata": {},
   "outputs": [],
   "source": [
    "cam = np.zeros(dtype=np.float32, shape=final_conv.shape[1:3])\n",
    "\n",
    "for i, w in enumerate(class_weights[pred]):\n",
    "    cam += w*final_conv[i,:,:]"
   ]
  },
  {
   "cell_type": "code",
   "execution_count": 25,
   "metadata": {
    "scrolled": false
   },
   "outputs": [
    {
     "name": "stdout",
     "output_type": "stream",
     "text": [
      "[[  1.0455099    4.5416355   -0.13459587  -8.841551    -6.7618256\n",
      "   -9.154972    -1.4798237   -0.48359084]\n",
      " [-41.23369      0.33520317  -3.2059374  -27.363903   -44.015015\n",
      "   -9.411132   -11.552276   -13.492553  ]\n",
      " [-24.042303     7.042859    36.980034     7.8405905  -42.933987\n",
      "  -51.32384     -2.534158   -22.854473  ]\n",
      " [-29.6921      -4.021414    99.80512     89.13941    -28.04153\n",
      "  -47.639797     4.543765   -13.653124  ]\n",
      " [ -1.4144233   -5.8650846  -33.823013   -63.04322    -68.33725\n",
      "  -40.58132    -38.437275   -26.129597  ]\n",
      " [ 11.192335    -6.524714   -86.70717    -67.70184     -2.4941509\n",
      "    2.2065554  -32.57791    -42.60388   ]\n",
      " [ -9.421419    -4.3986616  -28.160873   -28.626972    12.47725\n",
      "  -17.122759   -94.32389    -25.947517  ]\n",
      " [-24.488794   -37.24051     -2.6886332    5.1673293    6.999529\n",
      "  -10.15992    -40.609993   -58.431423  ]]\n"
     ]
    }
   ],
   "source": [
    "print(cam)"
   ]
  },
  {
   "cell_type": "code",
   "execution_count": 26,
   "metadata": {},
   "outputs": [],
   "source": [
    "cam = cam - np.min(cam)"
   ]
  },
  {
   "cell_type": "code",
   "execution_count": 27,
   "metadata": {},
   "outputs": [],
   "source": [
    "cam /= np.max(cam)"
   ]
  },
  {
   "cell_type": "code",
   "execution_count": 28,
   "metadata": {},
   "outputs": [
    {
     "data": {
      "text/plain": [
       "array([[0.49126816, 0.5092774 , 0.48518917, 0.44033778, 0.4510509 ,\n",
       "        0.43872327, 0.47825962, 0.48339143],\n",
       "       [0.27347896, 0.4876092 , 0.469368  , 0.34492522, 0.25915176,\n",
       "        0.43740374, 0.42637426, 0.41637948],\n",
       "       [0.36203545, 0.5221618 , 0.67637455, 0.52627105, 0.26472038,\n",
       "        0.22150244, 0.4728285 , 0.36815426],\n",
       "       [0.33293214, 0.46516734, 1.        , 0.94505864, 0.3414346 ,\n",
       "        0.24047974, 0.5092884 , 0.41555235],\n",
       "       [0.4785965 , 0.4556702 , 0.31165293, 0.16113341, 0.13386273,\n",
       "        0.27683944, 0.28788388, 0.35128334],\n",
       "       [0.5435366 , 0.45227233, 0.03923536, 0.13713585, 0.47303462,\n",
       "        0.49724895, 0.31806672, 0.2664208 ],\n",
       "       [0.43735078, 0.46322408, 0.34081984, 0.33841884, 0.55015546,\n",
       "        0.39767954, 0.        , 0.3522213 ],\n",
       "       [0.3597355 , 0.2940487 , 0.47203276, 0.5125005 , 0.52193856,\n",
       "        0.43354657, 0.27669176, 0.18488976]], dtype=float32)"
      ]
     },
     "execution_count": 28,
     "metadata": {},
     "output_type": "execute_result"
    }
   ],
   "source": [
    "cam"
   ]
  },
  {
   "cell_type": "code",
   "execution_count": 29,
   "metadata": {},
   "outputs": [
    {
     "data": {
      "text/plain": [
       "<matplotlib.image.AxesImage at 0x269ca70b198>"
      ]
     },
     "execution_count": 29,
     "metadata": {},
     "output_type": "execute_result"
    },
    {
     "data": {
      "image/png": "[encoded data removed]",
      "text/plain": [
       "<Figure size 432x288 with 1 Axes>"
      ]
     },
     "metadata": {
      "needs_background": "light"
     },
     "output_type": "display_data"
    }
   ],
   "source": [
    "plt.imshow(cam)"
   ]
  },
  {
   "cell_type": "code",
   "execution_count": 30,
   "metadata": {},
   "outputs": [],
   "source": [
    "import cv2\n",
    "\n",
    "cam = cv2.resize(cam, (128, 128))"
   ]
  },
  {
   "cell_type": "code",
   "execution_count": 31,
   "metadata": {},
   "outputs": [
    {
     "data": {
      "text/plain": [
       "<matplotlib.image.AxesImage at 0x269ca7ec080>"
      ]
     },
     "execution_count": 31,
     "metadata": {},
     "output_type": "execute_result"
    },
    {
     "data": {
      "image/png": "[encoded data removed]",
      "text/plain": [
       "<Figure size 432x288 with 1 Axes>"
      ]
     },
     "metadata": {
      "needs_background": "light"
     },
     "output_type": "display_data"
    }
   ],
   "source": [
    "plt.imshow(cam)"
   ]
  },
  {
   "cell_type": "code",
   "execution_count": 32,
   "metadata": {},
   "outputs": [],
   "source": [
    "heatmap = cv2.applyColorMap(np.uint8(255*cam), cv2.COLORMAP_JET)"
   ]
  },
  {
   "cell_type": "code",
   "execution_count": 33,
   "metadata": {},
   "outputs": [],
   "source": [
    "img = cv2.imread(img_path)\n",
    "img = cv2.resize(img, (128,128))"
   ]
  },
  {
   "cell_type": "code",
   "execution_count": 34,
   "metadata": {},
   "outputs": [
    {
     "data": {
      "text/plain": [
       "(128, 128, 3)"
      ]
     },
     "execution_count": 34,
     "metadata": {},
     "output_type": "execute_result"
    }
   ],
   "source": [
    "img.shape"
   ]
  },
  {
   "cell_type": "code",
   "execution_count": 35,
   "metadata": {},
   "outputs": [],
   "source": [
    "heatimg = heatmap*0.3 + img*0.5"
   ]
  },
  {
   "cell_type": "code",
   "execution_count": 36,
   "metadata": {},
   "outputs": [
    {
     "data": {
      "text/plain": [
       "True"
      ]
     },
     "execution_count": 36,
     "metadata": {},
     "output_type": "execute_result"
    }
   ],
   "source": [
    "cv2.imwrite('./cam.jpg', heatimg)"
   ]
  },
  {
   "cell_type": "code",
   "execution_count": 37,
   "metadata": {},
   "outputs": [
    {
     "data": {
      "text/plain": [
       "<matplotlib.image.AxesImage at 0x269ca829d30>"
      ]
     },
     "execution_count": 37,
     "metadata": {},
     "output_type": "execute_result"
    },
    {
     "data": {
      "image/png": "[encoded data removed]",
      "text/plain": [
       "<Figure size 432x288 with 1 Axes>"
      ]
     },
     "metadata": {
      "needs_background": "light"
     },
     "output_type": "display_data"
    }
   ],
   "source": [
    "cam_img = cv2.imread('./cam.jpg')\n",
    "cam_img = cv2.cvtColor(cam_img, cv2.COLOR_BGR2RGB)\n",
    "plt.imshow(cam_img)"
   ]
  },
  {
   "cell_type": "code",
   "execution_count": 38,
   "metadata": {},
   "outputs": [
    {
     "data": {
      "text/plain": [
       "<matplotlib.image.AxesImage at 0x269e06aa2e8>"
      ]
     },
     "execution_count": 38,
     "metadata": {},
     "output_type": "execute_result"
    },
    {
     "data": {
      "image/png": "[encoded data removed]",
      "text/plain": [
       "<Figure size 432x288 with 1 Axes>"
      ]
     },
     "metadata": {
      "needs_background": "light"
     },
     "output_type": "display_data"
    }
   ],
   "source": [
    "plt.imshow(cv2.cvtColor(img, cv2.COLOR_BGR2RGB))"
   ]
  }
 ],
 "metadata": {
  "kernelspec": {
   "display_name": "tensorflow",
   "language": "python",
   "name": "tensorflow"
  },
  "language_info": {
   "codemirror_mode": {
    "name": "ipython",
    "version": 3
   },
   "file_extension": ".py",
   "mimetype": "text/x-python",
   "name": "python",
   "nbconvert_exporter": "python",
   "pygments_lexer": "ipython3",
   "version": "3.5.6"
  },
  "pycharm": {
   "stem_cell": {
    "cell_type": "raw",
    "metadata": {
     "collapsed": false
    },
    "source": []
   }
  }
 },
 "nbformat": 4,
 "nbformat_minor": 1
}
