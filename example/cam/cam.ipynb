{
 "cells": [
  {
   "cell_type": "code",
   "execution_count": 398,
   "metadata": {},
   "outputs": [],
   "source": [
    "import os\n",
    "import sys\n",
    "\n",
    "sys.path.append(os.path.dirname(os.path.abspath(os.path.dirname('../..'))))\n",
    "\n",
    "import torch\n",
    "import numpy as np\n",
    "from models.Feature.GooLeNet import GoogLeNet"
   ]
  },
  {
   "cell_type": "code",
   "execution_count": 399,
   "metadata": {},
   "outputs": [],
   "source": [
    "if torch.cuda.is_available():\n",
    "    device = 'cuda'\n",
    "    torch.set_default_tensor_type('torch.cuda.FloatTensor')\n",
    "else:\n",
    "    device = 'cpu'\n",
    "    torch.set_default_tensor_type('torch.FloatTensor')"
   ]
  },
  {
   "cell_type": "code",
   "execution_count": 400,
   "metadata": {},
   "outputs": [],
   "source": [
    "class_name = ['airplane', 'automobile', 'bird', 'cat', 'deer', 'dog', 'frog', 'horse', 'ship', 'truck']"
   ]
  },
  {
   "cell_type": "code",
   "execution_count": 401,
   "metadata": {},
   "outputs": [],
   "source": [
    "model = GoogLeNet(classes=len(class_name)).to(device)"
   ]
  },
  {
   "cell_type": "code",
   "execution_count": 402,
   "metadata": {},
   "outputs": [
    {
     "data": {
      "text/plain": [
       "IncompatibleKeys(missing_keys=[], unexpected_keys=[])"
      ]
     },
     "execution_count": 402,
     "metadata": {},
     "output_type": "execute_result"
    }
   ],
   "source": [
    "model.load_state_dict(torch.load('inception_v1_cifar10_model.pth'))"
   ]
  },
  {
   "cell_type": "code",
   "execution_count": 403,
   "metadata": {},
   "outputs": [],
   "source": [
    "feature_blobs = []"
   ]
  },
  {
   "cell_type": "code",
   "execution_count": 404,
   "metadata": {},
   "outputs": [],
   "source": [
    "def hook_feature(module, input, output):\n",
    "    feature_blobs.append(output.cpu().data.numpy())"
   ]
  },
  {
   "cell_type": "code",
   "execution_count": 405,
   "metadata": {},
   "outputs": [
    {
     "data": {
      "text/plain": [
       "OrderedDict([('pre_layers', Sequential(\n",
       "                (0): Conv2d(3, 192, kernel_size=(3, 3), stride=(1, 1), padding=(1, 1))\n",
       "                (1): BatchNorm2d(192, eps=1e-05, momentum=0.1, affine=True, track_running_stats=True)\n",
       "                (2): ReLU(inplace)\n",
       "              )), ('a3', Inceptionv1(\n",
       "                (branch1): Sequential(\n",
       "                  (0): Conv2d(192, 64, kernel_size=(1, 1), stride=(1, 1))\n",
       "                  (1): BatchNorm2d(64, eps=1e-05, momentum=0.1, affine=True, track_running_stats=True)\n",
       "                  (2): ReLU(inplace)\n",
       "                )\n",
       "                (branch2): Sequential(\n",
       "                  (0): Conv2d(192, 96, kernel_size=(1, 1), stride=(1, 1))\n",
       "                  (1): BatchNorm2d(96, eps=1e-05, momentum=0.1, affine=True, track_running_stats=True)\n",
       "                  (2): ReLU(inplace)\n",
       "                  (3): Conv2d(96, 128, kernel_size=(3, 3), stride=(1, 1), padding=(1, 1))\n",
       "                  (4): BatchNorm2d(128, eps=1e-05, momentum=0.1, affine=True, track_running_stats=True)\n",
       "                  (5): ReLU(inplace)\n",
       "                )\n",
       "                (branch3): Sequential(\n",
       "                  (0): Conv2d(192, 16, kernel_size=(1, 1), stride=(1, 1))\n",
       "                  (1): BatchNorm2d(16, eps=1e-05, momentum=0.1, affine=True, track_running_stats=True)\n",
       "                  (2): ReLU(inplace)\n",
       "                  (3): Conv2d(16, 32, kernel_size=(3, 3), stride=(1, 1), padding=(1, 1))\n",
       "                  (4): BatchNorm2d(32, eps=1e-05, momentum=0.1, affine=True, track_running_stats=True)\n",
       "                  (5): ReLU(inplace)\n",
       "                  (6): Conv2d(32, 32, kernel_size=(3, 3), stride=(1, 1), padding=(1, 1))\n",
       "                  (7): BatchNorm2d(32, eps=1e-05, momentum=0.1, affine=True, track_running_stats=True)\n",
       "                  (8): ReLU(inplace)\n",
       "                )\n",
       "                (branch4): Sequential(\n",
       "                  (0): MaxPool2d(kernel_size=3, stride=1, padding=1, dilation=1, ceil_mode=False)\n",
       "                  (1): Conv2d(192, 32, kernel_size=(1, 1), stride=(1, 1))\n",
       "                  (2): BatchNorm2d(32, eps=1e-05, momentum=0.1, affine=True, track_running_stats=True)\n",
       "                  (3): ReLU(inplace)\n",
       "                )\n",
       "              )), ('b3', Inceptionv1(\n",
       "                (branch1): Sequential(\n",
       "                  (0): Conv2d(256, 128, kernel_size=(1, 1), stride=(1, 1))\n",
       "                  (1): BatchNorm2d(128, eps=1e-05, momentum=0.1, affine=True, track_running_stats=True)\n",
       "                  (2): ReLU(inplace)\n",
       "                )\n",
       "                (branch2): Sequential(\n",
       "                  (0): Conv2d(256, 128, kernel_size=(1, 1), stride=(1, 1))\n",
       "                  (1): BatchNorm2d(128, eps=1e-05, momentum=0.1, affine=True, track_running_stats=True)\n",
       "                  (2): ReLU(inplace)\n",
       "                  (3): Conv2d(128, 192, kernel_size=(3, 3), stride=(1, 1), padding=(1, 1))\n",
       "                  (4): BatchNorm2d(192, eps=1e-05, momentum=0.1, affine=True, track_running_stats=True)\n",
       "                  (5): ReLU(inplace)\n",
       "                )\n",
       "                (branch3): Sequential(\n",
       "                  (0): Conv2d(256, 32, kernel_size=(1, 1), stride=(1, 1))\n",
       "                  (1): BatchNorm2d(32, eps=1e-05, momentum=0.1, affine=True, track_running_stats=True)\n",
       "                  (2): ReLU(inplace)\n",
       "                  (3): Conv2d(32, 96, kernel_size=(3, 3), stride=(1, 1), padding=(1, 1))\n",
       "                  (4): BatchNorm2d(96, eps=1e-05, momentum=0.1, affine=True, track_running_stats=True)\n",
       "                  (5): ReLU(inplace)\n",
       "                  (6): Conv2d(96, 96, kernel_size=(3, 3), stride=(1, 1), padding=(1, 1))\n",
       "                  (7): BatchNorm2d(96, eps=1e-05, momentum=0.1, affine=True, track_running_stats=True)\n",
       "                  (8): ReLU(inplace)\n",
       "                )\n",
       "                (branch4): Sequential(\n",
       "                  (0): MaxPool2d(kernel_size=3, stride=1, padding=1, dilation=1, ceil_mode=False)\n",
       "                  (1): Conv2d(256, 64, kernel_size=(1, 1), stride=(1, 1))\n",
       "                  (2): BatchNorm2d(64, eps=1e-05, momentum=0.1, affine=True, track_running_stats=True)\n",
       "                  (3): ReLU(inplace)\n",
       "                )\n",
       "              )), ('maxpool',\n",
       "              MaxPool2d(kernel_size=3, stride=2, padding=1, dilation=1, ceil_mode=False)), ('a4',\n",
       "              Inceptionv1(\n",
       "                (branch1): Sequential(\n",
       "                  (0): Conv2d(480, 192, kernel_size=(1, 1), stride=(1, 1))\n",
       "                  (1): BatchNorm2d(192, eps=1e-05, momentum=0.1, affine=True, track_running_stats=True)\n",
       "                  (2): ReLU(inplace)\n",
       "                )\n",
       "                (branch2): Sequential(\n",
       "                  (0): Conv2d(480, 96, kernel_size=(1, 1), stride=(1, 1))\n",
       "                  (1): BatchNorm2d(96, eps=1e-05, momentum=0.1, affine=True, track_running_stats=True)\n",
       "                  (2): ReLU(inplace)\n",
       "                  (3): Conv2d(96, 208, kernel_size=(3, 3), stride=(1, 1), padding=(1, 1))\n",
       "                  (4): BatchNorm2d(208, eps=1e-05, momentum=0.1, affine=True, track_running_stats=True)\n",
       "                  (5): ReLU(inplace)\n",
       "                )\n",
       "                (branch3): Sequential(\n",
       "                  (0): Conv2d(480, 16, kernel_size=(1, 1), stride=(1, 1))\n",
       "                  (1): BatchNorm2d(16, eps=1e-05, momentum=0.1, affine=True, track_running_stats=True)\n",
       "                  (2): ReLU(inplace)\n",
       "                  (3): Conv2d(16, 48, kernel_size=(3, 3), stride=(1, 1), padding=(1, 1))\n",
       "                  (4): BatchNorm2d(48, eps=1e-05, momentum=0.1, affine=True, track_running_stats=True)\n",
       "                  (5): ReLU(inplace)\n",
       "                  (6): Conv2d(48, 48, kernel_size=(3, 3), stride=(1, 1), padding=(1, 1))\n",
       "                  (7): BatchNorm2d(48, eps=1e-05, momentum=0.1, affine=True, track_running_stats=True)\n",
       "                  (8): ReLU(inplace)\n",
       "                )\n",
       "                (branch4): Sequential(\n",
       "                  (0): MaxPool2d(kernel_size=3, stride=1, padding=1, dilation=1, ceil_mode=False)\n",
       "                  (1): Conv2d(480, 64, kernel_size=(1, 1), stride=(1, 1))\n",
       "                  (2): BatchNorm2d(64, eps=1e-05, momentum=0.1, affine=True, track_running_stats=True)\n",
       "                  (3): ReLU(inplace)\n",
       "                )\n",
       "              )), ('b4', Inceptionv1(\n",
       "                (branch1): Sequential(\n",
       "                  (0): Conv2d(512, 160, kernel_size=(1, 1), stride=(1, 1))\n",
       "                  (1): BatchNorm2d(160, eps=1e-05, momentum=0.1, affine=True, track_running_stats=True)\n",
       "                  (2): ReLU(inplace)\n",
       "                )\n",
       "                (branch2): Sequential(\n",
       "                  (0): Conv2d(512, 112, kernel_size=(1, 1), stride=(1, 1))\n",
       "                  (1): BatchNorm2d(112, eps=1e-05, momentum=0.1, affine=True, track_running_stats=True)\n",
       "                  (2): ReLU(inplace)\n",
       "                  (3): Conv2d(112, 224, kernel_size=(3, 3), stride=(1, 1), padding=(1, 1))\n",
       "                  (4): BatchNorm2d(224, eps=1e-05, momentum=0.1, affine=True, track_running_stats=True)\n",
       "                  (5): ReLU(inplace)\n",
       "                )\n",
       "                (branch3): Sequential(\n",
       "                  (0): Conv2d(512, 24, kernel_size=(1, 1), stride=(1, 1))\n",
       "                  (1): BatchNorm2d(24, eps=1e-05, momentum=0.1, affine=True, track_running_stats=True)\n",
       "                  (2): ReLU(inplace)\n",
       "                  (3): Conv2d(24, 64, kernel_size=(3, 3), stride=(1, 1), padding=(1, 1))\n",
       "                  (4): BatchNorm2d(64, eps=1e-05, momentum=0.1, affine=True, track_running_stats=True)\n",
       "                  (5): ReLU(inplace)\n",
       "                  (6): Conv2d(64, 64, kernel_size=(3, 3), stride=(1, 1), padding=(1, 1))\n",
       "                  (7): BatchNorm2d(64, eps=1e-05, momentum=0.1, affine=True, track_running_stats=True)\n",
       "                  (8): ReLU(inplace)\n",
       "                )\n",
       "                (branch4): Sequential(\n",
       "                  (0): MaxPool2d(kernel_size=3, stride=1, padding=1, dilation=1, ceil_mode=False)\n",
       "                  (1): Conv2d(512, 64, kernel_size=(1, 1), stride=(1, 1))\n",
       "                  (2): BatchNorm2d(64, eps=1e-05, momentum=0.1, affine=True, track_running_stats=True)\n",
       "                  (3): ReLU(inplace)\n",
       "                )\n",
       "              )), ('c4', Inceptionv1(\n",
       "                (branch1): Sequential(\n",
       "                  (0): Conv2d(512, 128, kernel_size=(1, 1), stride=(1, 1))\n",
       "                  (1): BatchNorm2d(128, eps=1e-05, momentum=0.1, affine=True, track_running_stats=True)\n",
       "                  (2): ReLU(inplace)\n",
       "                )\n",
       "                (branch2): Sequential(\n",
       "                  (0): Conv2d(512, 128, kernel_size=(1, 1), stride=(1, 1))\n",
       "                  (1): BatchNorm2d(128, eps=1e-05, momentum=0.1, affine=True, track_running_stats=True)\n",
       "                  (2): ReLU(inplace)\n",
       "                  (3): Conv2d(128, 256, kernel_size=(3, 3), stride=(1, 1), padding=(1, 1))\n",
       "                  (4): BatchNorm2d(256, eps=1e-05, momentum=0.1, affine=True, track_running_stats=True)\n",
       "                  (5): ReLU(inplace)\n",
       "                )\n",
       "                (branch3): Sequential(\n",
       "                  (0): Conv2d(512, 24, kernel_size=(1, 1), stride=(1, 1))\n",
       "                  (1): BatchNorm2d(24, eps=1e-05, momentum=0.1, affine=True, track_running_stats=True)\n",
       "                  (2): ReLU(inplace)\n",
       "                  (3): Conv2d(24, 64, kernel_size=(3, 3), stride=(1, 1), padding=(1, 1))\n",
       "                  (4): BatchNorm2d(64, eps=1e-05, momentum=0.1, affine=True, track_running_stats=True)\n",
       "                  (5): ReLU(inplace)\n",
       "                  (6): Conv2d(64, 64, kernel_size=(3, 3), stride=(1, 1), padding=(1, 1))\n",
       "                  (7): BatchNorm2d(64, eps=1e-05, momentum=0.1, affine=True, track_running_stats=True)\n",
       "                  (8): ReLU(inplace)\n",
       "                )\n",
       "                (branch4): Sequential(\n",
       "                  (0): MaxPool2d(kernel_size=3, stride=1, padding=1, dilation=1, ceil_mode=False)\n",
       "                  (1): Conv2d(512, 64, kernel_size=(1, 1), stride=(1, 1))\n",
       "                  (2): BatchNorm2d(64, eps=1e-05, momentum=0.1, affine=True, track_running_stats=True)\n",
       "                  (3): ReLU(inplace)\n",
       "                )\n",
       "              )), ('d4', Inceptionv1(\n",
       "                (branch1): Sequential(\n",
       "                  (0): Conv2d(512, 112, kernel_size=(1, 1), stride=(1, 1))\n",
       "                  (1): BatchNorm2d(112, eps=1e-05, momentum=0.1, affine=True, track_running_stats=True)\n",
       "                  (2): ReLU(inplace)\n",
       "                )\n",
       "                (branch2): Sequential(\n",
       "                  (0): Conv2d(512, 144, kernel_size=(1, 1), stride=(1, 1))\n",
       "                  (1): BatchNorm2d(144, eps=1e-05, momentum=0.1, affine=True, track_running_stats=True)\n",
       "                  (2): ReLU(inplace)\n",
       "                  (3): Conv2d(144, 288, kernel_size=(3, 3), stride=(1, 1), padding=(1, 1))\n",
       "                  (4): BatchNorm2d(288, eps=1e-05, momentum=0.1, affine=True, track_running_stats=True)\n",
       "                  (5): ReLU(inplace)\n",
       "                )\n",
       "                (branch3): Sequential(\n",
       "                  (0): Conv2d(512, 32, kernel_size=(1, 1), stride=(1, 1))\n",
       "                  (1): BatchNorm2d(32, eps=1e-05, momentum=0.1, affine=True, track_running_stats=True)\n",
       "                  (2): ReLU(inplace)\n",
       "                  (3): Conv2d(32, 64, kernel_size=(3, 3), stride=(1, 1), padding=(1, 1))\n",
       "                  (4): BatchNorm2d(64, eps=1e-05, momentum=0.1, affine=True, track_running_stats=True)\n",
       "                  (5): ReLU(inplace)\n",
       "                  (6): Conv2d(64, 64, kernel_size=(3, 3), stride=(1, 1), padding=(1, 1))\n",
       "                  (7): BatchNorm2d(64, eps=1e-05, momentum=0.1, affine=True, track_running_stats=True)\n",
       "                  (8): ReLU(inplace)\n",
       "                )\n",
       "                (branch4): Sequential(\n",
       "                  (0): MaxPool2d(kernel_size=3, stride=1, padding=1, dilation=1, ceil_mode=False)\n",
       "                  (1): Conv2d(512, 64, kernel_size=(1, 1), stride=(1, 1))\n",
       "                  (2): BatchNorm2d(64, eps=1e-05, momentum=0.1, affine=True, track_running_stats=True)\n",
       "                  (3): ReLU(inplace)\n",
       "                )\n",
       "              )), ('e4', Inceptionv1(\n",
       "                (branch1): Sequential(\n",
       "                  (0): Conv2d(528, 256, kernel_size=(1, 1), stride=(1, 1))\n",
       "                  (1): BatchNorm2d(256, eps=1e-05, momentum=0.1, affine=True, track_running_stats=True)\n",
       "                  (2): ReLU(inplace)\n",
       "                )\n",
       "                (branch2): Sequential(\n",
       "                  (0): Conv2d(528, 160, kernel_size=(1, 1), stride=(1, 1))\n",
       "                  (1): BatchNorm2d(160, eps=1e-05, momentum=0.1, affine=True, track_running_stats=True)\n",
       "                  (2): ReLU(inplace)\n",
       "                  (3): Conv2d(160, 320, kernel_size=(3, 3), stride=(1, 1), padding=(1, 1))\n",
       "                  (4): BatchNorm2d(320, eps=1e-05, momentum=0.1, affine=True, track_running_stats=True)\n",
       "                  (5): ReLU(inplace)\n",
       "                )\n",
       "                (branch3): Sequential(\n",
       "                  (0): Conv2d(528, 32, kernel_size=(1, 1), stride=(1, 1))\n",
       "                  (1): BatchNorm2d(32, eps=1e-05, momentum=0.1, affine=True, track_running_stats=True)\n",
       "                  (2): ReLU(inplace)\n",
       "                  (3): Conv2d(32, 128, kernel_size=(3, 3), stride=(1, 1), padding=(1, 1))\n",
       "                  (4): BatchNorm2d(128, eps=1e-05, momentum=0.1, affine=True, track_running_stats=True)\n",
       "                  (5): ReLU(inplace)\n",
       "                  (6): Conv2d(128, 128, kernel_size=(3, 3), stride=(1, 1), padding=(1, 1))\n",
       "                  (7): BatchNorm2d(128, eps=1e-05, momentum=0.1, affine=True, track_running_stats=True)\n",
       "                  (8): ReLU(inplace)\n",
       "                )\n",
       "                (branch4): Sequential(\n",
       "                  (0): MaxPool2d(kernel_size=3, stride=1, padding=1, dilation=1, ceil_mode=False)\n",
       "                  (1): Conv2d(528, 128, kernel_size=(1, 1), stride=(1, 1))\n",
       "                  (2): BatchNorm2d(128, eps=1e-05, momentum=0.1, affine=True, track_running_stats=True)\n",
       "                  (3): ReLU(inplace)\n",
       "                )\n",
       "              )), ('a5', Inceptionv1(\n",
       "                (branch1): Sequential(\n",
       "                  (0): Conv2d(832, 256, kernel_size=(1, 1), stride=(1, 1))\n",
       "                  (1): BatchNorm2d(256, eps=1e-05, momentum=0.1, affine=True, track_running_stats=True)\n",
       "                  (2): ReLU(inplace)\n",
       "                )\n",
       "                (branch2): Sequential(\n",
       "                  (0): Conv2d(832, 160, kernel_size=(1, 1), stride=(1, 1))\n",
       "                  (1): BatchNorm2d(160, eps=1e-05, momentum=0.1, affine=True, track_running_stats=True)\n",
       "                  (2): ReLU(inplace)\n",
       "                  (3): Conv2d(160, 320, kernel_size=(3, 3), stride=(1, 1), padding=(1, 1))\n",
       "                  (4): BatchNorm2d(320, eps=1e-05, momentum=0.1, affine=True, track_running_stats=True)\n",
       "                  (5): ReLU(inplace)\n",
       "                )\n",
       "                (branch3): Sequential(\n",
       "                  (0): Conv2d(832, 32, kernel_size=(1, 1), stride=(1, 1))\n",
       "                  (1): BatchNorm2d(32, eps=1e-05, momentum=0.1, affine=True, track_running_stats=True)\n",
       "                  (2): ReLU(inplace)\n",
       "                  (3): Conv2d(32, 128, kernel_size=(3, 3), stride=(1, 1), padding=(1, 1))\n",
       "                  (4): BatchNorm2d(128, eps=1e-05, momentum=0.1, affine=True, track_running_stats=True)\n",
       "                  (5): ReLU(inplace)\n",
       "                  (6): Conv2d(128, 128, kernel_size=(3, 3), stride=(1, 1), padding=(1, 1))\n",
       "                  (7): BatchNorm2d(128, eps=1e-05, momentum=0.1, affine=True, track_running_stats=True)\n",
       "                  (8): ReLU(inplace)\n",
       "                )\n",
       "                (branch4): Sequential(\n",
       "                  (0): MaxPool2d(kernel_size=3, stride=1, padding=1, dilation=1, ceil_mode=False)\n",
       "                  (1): Conv2d(832, 128, kernel_size=(1, 1), stride=(1, 1))\n",
       "                  (2): BatchNorm2d(128, eps=1e-05, momentum=0.1, affine=True, track_running_stats=True)\n",
       "                  (3): ReLU(inplace)\n",
       "                )\n",
       "              )), ('b5', Inceptionv1(\n",
       "                (branch1): Sequential(\n",
       "                  (0): Conv2d(832, 384, kernel_size=(1, 1), stride=(1, 1))\n",
       "                  (1): BatchNorm2d(384, eps=1e-05, momentum=0.1, affine=True, track_running_stats=True)\n",
       "                  (2): ReLU(inplace)\n",
       "                )\n",
       "                (branch2): Sequential(\n",
       "                  (0): Conv2d(832, 192, kernel_size=(1, 1), stride=(1, 1))\n",
       "                  (1): BatchNorm2d(192, eps=1e-05, momentum=0.1, affine=True, track_running_stats=True)\n",
       "                  (2): ReLU(inplace)\n",
       "                  (3): Conv2d(192, 384, kernel_size=(3, 3), stride=(1, 1), padding=(1, 1))\n",
       "                  (4): BatchNorm2d(384, eps=1e-05, momentum=0.1, affine=True, track_running_stats=True)\n",
       "                  (5): ReLU(inplace)\n",
       "                )\n",
       "                (branch3): Sequential(\n",
       "                  (0): Conv2d(832, 48, kernel_size=(1, 1), stride=(1, 1))\n",
       "                  (1): BatchNorm2d(48, eps=1e-05, momentum=0.1, affine=True, track_running_stats=True)\n",
       "                  (2): ReLU(inplace)\n",
       "                  (3): Conv2d(48, 128, kernel_size=(3, 3), stride=(1, 1), padding=(1, 1))\n",
       "                  (4): BatchNorm2d(128, eps=1e-05, momentum=0.1, affine=True, track_running_stats=True)\n",
       "                  (5): ReLU(inplace)\n",
       "                  (6): Conv2d(128, 128, kernel_size=(3, 3), stride=(1, 1), padding=(1, 1))\n",
       "                  (7): BatchNorm2d(128, eps=1e-05, momentum=0.1, affine=True, track_running_stats=True)\n",
       "                  (8): ReLU(inplace)\n",
       "                )\n",
       "                (branch4): Sequential(\n",
       "                  (0): MaxPool2d(kernel_size=3, stride=1, padding=1, dilation=1, ceil_mode=False)\n",
       "                  (1): Conv2d(832, 128, kernel_size=(1, 1), stride=(1, 1))\n",
       "                  (2): BatchNorm2d(128, eps=1e-05, momentum=0.1, affine=True, track_running_stats=True)\n",
       "                  (3): ReLU(inplace)\n",
       "                )\n",
       "              )), ('avgpool',\n",
       "              AvgPool2d(kernel_size=8, stride=1, padding=0)), ('linear', Linear(in_features=1024, out_features=10, bias=True))])"
      ]
     },
     "execution_count": 405,
     "metadata": {},
     "output_type": "execute_result"
    }
   ],
   "source": [
    "model._modules"
   ]
  },
  {
   "cell_type": "code",
   "execution_count": 406,
   "metadata": {},
   "outputs": [
    {
     "data": {
      "text/plain": [
       "<torch.utils.hooks.RemovableHandle at 0x1f4047e5c88>"
      ]
     },
     "execution_count": 406,
     "metadata": {},
     "output_type": "execute_result"
    }
   ],
   "source": [
    "model._modules.get('b5').register_forward_hook(hook_feature)"
   ]
  },
  {
   "cell_type": "code",
   "execution_count": 407,
   "metadata": {},
   "outputs": [],
   "source": [
    "params = list(model.parameters())"
   ]
  },
  {
   "cell_type": "code",
   "execution_count": 408,
   "metadata": {},
   "outputs": [],
   "source": [
    "class_weights = np.squeeze(params[-2].cpu().data.numpy())"
   ]
  },
  {
   "cell_type": "code",
   "execution_count": 409,
   "metadata": {},
   "outputs": [],
   "source": [
    "from PIL import Image\n",
    "import matplotlib.pyplot as plt\n",
    "\n",
    "img_path = './test1.png'\n",
    "\n",
    "img = Image.open(img_path)"
   ]
  },
  {
   "cell_type": "code",
   "execution_count": 410,
   "metadata": {},
   "outputs": [
    {
     "data": {
      "text/plain": [
       "<matplotlib.image.AxesImage at 0x1f4046ce1d0>"
      ]
     },
     "execution_count": 410,
     "metadata": {},
     "output_type": "execute_result"
    },
    {
     "data": {
      "image/png": "[encoded data removed]",
      "text/plain": [
       "<Figure size 432x288 with 1 Axes>"
      ]
     },
     "metadata": {
      "needs_background": "light"
     },
     "output_type": "display_data"
    }
   ],
   "source": [
    "plt.imshow(img)"
   ]
  },
  {
   "cell_type": "code",
   "execution_count": 411,
   "metadata": {},
   "outputs": [],
   "source": [
    "import torchvision.transforms as transforms\n",
    "\n",
    "cvt_tensor = transforms.ToTensor()\n",
    "\n",
    "tensor_img = cvt_tensor(img).to(device)"
   ]
  },
  {
   "cell_type": "code",
   "execution_count": 412,
   "metadata": {},
   "outputs": [],
   "source": [
    "tensor_img = tensor_img.view(1, 3, 32, 32)"
   ]
  },
  {
   "cell_type": "code",
   "execution_count": 413,
   "metadata": {},
   "outputs": [],
   "source": [
    "output = model(tensor_img)"
   ]
  },
  {
   "cell_type": "code",
   "execution_count": 414,
   "metadata": {},
   "outputs": [],
   "source": [
    "from torch.nn import functional as F\n",
    "\n",
    "h_x = F.softmax(output, dim=1).data.squeeze()"
   ]
  },
  {
   "cell_type": "code",
   "execution_count": 415,
   "metadata": {},
   "outputs": [
    {
     "data": {
      "text/plain": [
       "torch.return_types.sort(\n",
       "values=tensor([7.3704e-01, 2.3550e-01, 2.5282e-02, 1.6277e-03, 4.9582e-04, 4.0828e-05,\n",
       "        1.0829e-05, 1.4364e-06, 1.2802e-06, 2.6999e-07]),\n",
       "indices=tensor([5, 2, 6, 3, 4, 7, 0, 8, 9, 1]))"
      ]
     },
     "execution_count": 415,
     "metadata": {},
     "output_type": "execute_result"
    }
   ],
   "source": [
    "h_x.sort(0, True)"
   ]
  },
  {
   "cell_type": "code",
   "execution_count": 416,
   "metadata": {},
   "outputs": [
    {
     "name": "stdout",
     "output_type": "stream",
     "text": [
      "5\n"
     ]
    }
   ],
   "source": [
    "pred = h_x.argmax(0).item()\n",
    "print(pred)"
   ]
  },
  {
   "cell_type": "code",
   "execution_count": 417,
   "metadata": {},
   "outputs": [
    {
     "data": {
      "text/plain": [
       "'dog'"
      ]
     },
     "execution_count": 417,
     "metadata": {},
     "output_type": "execute_result"
    }
   ],
   "source": [
    "class_name[pred]"
   ]
  },
  {
   "cell_type": "code",
   "execution_count": 418,
   "metadata": {},
   "outputs": [
    {
     "data": {
      "text/plain": [
       "(1024, 8, 8)"
      ]
     },
     "execution_count": 418,
     "metadata": {},
     "output_type": "execute_result"
    }
   ],
   "source": [
    "feature_blobs[0][0].shape"
   ]
  },
  {
   "cell_type": "code",
   "execution_count": 419,
   "metadata": {},
   "outputs": [
    {
     "data": {
      "text/plain": [
       "(10, 1024)"
      ]
     },
     "execution_count": 419,
     "metadata": {},
     "output_type": "execute_result"
    }
   ],
   "source": [
    "class_weights.shape"
   ]
  },
  {
   "cell_type": "code",
   "execution_count": 420,
   "metadata": {},
   "outputs": [],
   "source": [
    "final_conv = feature_blobs[0][0]"
   ]
  },
  {
   "cell_type": "code",
   "execution_count": 425,
   "metadata": {},
   "outputs": [],
   "source": [
    "def gen_feature_map(feature_):\n",
    "    length = len(feature_)\n",
    "    \n",
    "    size = np.sqrt(1024)\n",
    "    \n",
    "    r, c = int(size), int(size)\n",
    "\n",
    "    fig, axs = plt.subplots(r, c, figsize=(10,10))\n",
    "    cnt = 0\n",
    "\n",
    "    for i in range(r):\n",
    "        for j in range(c):\n",
    "            axs[i,j].imshow(feature_[cnt])\n",
    "            axs[i,j].axis('off')\n",
    "            cnt += 1\n",
    "    fig.savefig(\"feature_%s.png\" % class_name[pred])\n",
    "    plt.show()\n",
    "    \n",
    "def min_max_scaling(cam):\n",
    "    cam = (cam - np.min(cam)) / np.max(cam) - np.min(cam)\n",
    "    return cam\n",
    "\n",
    "def standard_scaling(cam):\n",
    "    cam = (cam - np.mean(cam)) / np.std(cam)\n",
    "    return cam\n",
    "\n",
    "def scaling(cam):\n",
    "    cam = cam - np.min(cam)\n",
    "    cam /= np.max(cam)\n",
    "    \n",
    "    return cam"
   ]
  },
  {
   "cell_type": "code",
   "execution_count": 429,
   "metadata": {},
   "outputs": [],
   "source": [
    "cam = np.zeros(dtype=np.float32, shape=final_conv.shape[1:3])\n",
    "\n",
    "for i, w in enumerate(class_weights[2]):\n",
    "    cam += w*final_conv[i,:,:]"
   ]
  },
  {
   "cell_type": "code",
   "execution_count": 434,
   "metadata": {},
   "outputs": [],
   "source": [
    "feature_ = []\n",
    "\n",
    "for i, w in enumerate(class_weights[4]):\n",
    "    feature_.append(w*final_conv[i,:,:])"
   ]
  },
  {
   "cell_type": "code",
   "execution_count": 435,
   "metadata": {},
   "outputs": [
    {
     "name": "stdout",
     "output_type": "stream",
     "text": [
      "863\n"
     ]
    }
   ],
   "source": [
    "cnt = 0\n",
    "for f in feature_:\n",
    "    if np.sum(np.abs(f)) == 0:\n",
    "        cnt+=1\n",
    "print(cnt)"
   ]
  },
  {
   "cell_type": "code",
   "execution_count": 384,
   "metadata": {},
   "outputs": [],
   "source": [
    "cam = scaling(cam)"
   ]
  },
  {
   "cell_type": "code",
   "execution_count": 385,
   "metadata": {},
   "outputs": [
    {
     "data": {
      "text/plain": [
       "array([[0.7773168 , 0.7177582 , 0.71687806, 0.7429812 , 0.72194403,\n",
       "        0.79126114, 0.81763965, 0.7925402 ],\n",
       "       [0.92344606, 0.7520663 , 0.58604807, 0.58945316, 0.7303734 ,\n",
       "        0.5002739 , 0.95762247, 0.8778357 ],\n",
       "       [0.71709925, 0.45985228, 0.        , 0.4145114 , 0.789916  ,\n",
       "        0.804086  , 0.8392002 , 0.88734704],\n",
       "       [0.521752  , 0.56223756, 0.30705968, 0.40209916, 0.71761864,\n",
       "        0.9868008 , 0.71243995, 0.81546474],\n",
       "       [0.5708414 , 0.26376742, 0.46565348, 0.49121565, 0.63141054,\n",
       "        0.7576816 , 0.90697783, 0.8364715 ],\n",
       "       [0.3320327 , 0.27718812, 0.5179609 , 0.6696508 , 0.52991   ,\n",
       "        0.30763486, 0.8216566 , 0.8949903 ],\n",
       "       [0.6646215 , 0.52549714, 0.5488112 , 0.6465666 , 0.6166405 ,\n",
       "        0.75321627, 0.98507506, 1.        ],\n",
       "       [0.7700631 , 0.69206285, 0.66790974, 0.71234316, 0.58060706,\n",
       "        0.6223314 , 0.6433433 , 0.5953858 ]], dtype=float32)"
      ]
     },
     "execution_count": 385,
     "metadata": {},
     "output_type": "execute_result"
    }
   ],
   "source": [
    "cam"
   ]
  },
  {
   "cell_type": "code",
   "execution_count": 386,
   "metadata": {},
   "outputs": [
    {
     "data": {
      "text/plain": [
       "<matplotlib.image.AxesImage at 0x1f3fb4e31d0>"
      ]
     },
     "execution_count": 386,
     "metadata": {},
     "output_type": "execute_result"
    },
    {
     "data": {
      "image/png": "[encoded data removed]",
      "text/plain": [
       "<Figure size 432x288 with 1 Axes>"
      ]
     },
     "metadata": {
      "needs_background": "light"
     },
     "output_type": "display_data"
    }
   ],
   "source": [
    "plt.imshow(cam)"
   ]
  },
  {
   "cell_type": "code",
   "execution_count": 387,
   "metadata": {},
   "outputs": [],
   "source": [
    "import cv2\n",
    "\n",
    "cam = cv2.resize(cam, (128, 128))"
   ]
  },
  {
   "cell_type": "code",
   "execution_count": 388,
   "metadata": {},
   "outputs": [
    {
     "data": {
      "text/plain": [
       "<matplotlib.image.AxesImage at 0x1f3fb3f2278>"
      ]
     },
     "execution_count": 388,
     "metadata": {},
     "output_type": "execute_result"
    },
    {
     "data": {
      "image/png": "[encoded data removed]",
      "text/plain": [
       "<Figure size 432x288 with 1 Axes>"
      ]
     },
     "metadata": {
      "needs_background": "light"
     },
     "output_type": "display_data"
    }
   ],
   "source": [
    "plt.imshow(cam)"
   ]
  },
  {
   "cell_type": "code",
   "execution_count": 389,
   "metadata": {},
   "outputs": [],
   "source": [
    "heatmap = cv2.applyColorMap(np.uint8(255*cam), cv2.COLORMAP_JET)"
   ]
  },
  {
   "cell_type": "code",
   "execution_count": 390,
   "metadata": {},
   "outputs": [],
   "source": [
    "img = cv2.imread(img_path)\n",
    "img = cv2.resize(img, (128,128))"
   ]
  },
  {
   "cell_type": "code",
   "execution_count": 391,
   "metadata": {},
   "outputs": [
    {
     "data": {
      "text/plain": [
       "(128, 128, 3)"
      ]
     },
     "execution_count": 391,
     "metadata": {},
     "output_type": "execute_result"
    }
   ],
   "source": [
    "img.shape"
   ]
  },
  {
   "cell_type": "code",
   "execution_count": 392,
   "metadata": {},
   "outputs": [],
   "source": [
    "heatimg = heatmap*0.4 + img*0.5"
   ]
  },
  {
   "cell_type": "code",
   "execution_count": 393,
   "metadata": {},
   "outputs": [
    {
     "data": {
      "text/plain": [
       "True"
      ]
     },
     "execution_count": 393,
     "metadata": {},
     "output_type": "execute_result"
    }
   ],
   "source": [
    "cv2.imwrite('./cam.jpg', heatimg)"
   ]
  },
  {
   "cell_type": "code",
   "execution_count": 394,
   "metadata": {},
   "outputs": [
    {
     "data": {
      "text/plain": [
       "<matplotlib.image.AxesImage at 0x1f3fb3839e8>"
      ]
     },
     "execution_count": 394,
     "metadata": {},
     "output_type": "execute_result"
    },
    {
     "data": {
      "image/png": "[encoded data removed]",
      "text/plain": [
       "<Figure size 432x288 with 1 Axes>"
      ]
     },
     "metadata": {
      "needs_background": "light"
     },
     "output_type": "display_data"
    }
   ],
   "source": [
    "cam_img = cv2.imread('./cam.jpg')\n",
    "cam_img = cv2.cvtColor(cam_img, cv2.COLOR_BGR2RGB)\n",
    "plt.imshow(cam_img)"
   ]
  },
  {
   "cell_type": "code",
   "execution_count": 395,
   "metadata": {},
   "outputs": [
    {
     "data": {
      "text/plain": [
       "<matplotlib.image.AxesImage at 0x1f3fb31d320>"
      ]
     },
     "execution_count": 395,
     "metadata": {},
     "output_type": "execute_result"
    },
    {
     "data": {
      "image/png": "[encoded data removed]",
      "text/plain": [
       "<Figure size 432x288 with 1 Axes>"
      ]
     },
     "metadata": {
      "needs_background": "light"
     },
     "output_type": "display_data"
    }
   ],
   "source": [
    "plt.imshow(cv2.cvtColor(img, cv2.COLOR_BGR2RGB))"
   ]
  },
  {
   "cell_type": "code",
   "execution_count": null,
   "metadata": {},
   "outputs": [],
   "source": []
  }
 ],
 "metadata": {
  "kernelspec": {
   "display_name": "tensorflow",
   "language": "python",
   "name": "tensorflow"
  },
  "language_info": {
   "codemirror_mode": {
    "name": "ipython",
    "version": 3
   },
   "file_extension": ".py",
   "mimetype": "text/x-python",
   "name": "python",
   "nbconvert_exporter": "python",
   "pygments_lexer": "ipython3",
   "version": "3.5.6"
  },
  "pycharm": {
   "stem_cell": {
    "cell_type": "raw",
    "metadata": {
     "collapsed": false
    },
    "source": []
   }
  }
 },
 "nbformat": 4,
 "nbformat_minor": 1
}
