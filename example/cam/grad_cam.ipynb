{
 "cells": [
  {
   "cell_type": "code",
   "execution_count": 1,
   "metadata": {},
   "outputs": [],
   "source": [
    "import os\n",
    "import sys\n",
    "\n",
    "sys.path.append(os.path.dirname(os.path.abspath(os.path.dirname('../..'))))\n",
    "\n",
    "import torch\n",
    "from PIL import Image\n",
    "import matplotlib.pyplot as plt\n",
    "import numpy as np\n",
    "from models.Feature.GooLeNet import GoogLeNet\n",
    "from models.Feature.ResNet import ResNet18"
   ]
  },
  {
   "cell_type": "code",
   "execution_count": 2,
   "metadata": {},
   "outputs": [],
   "source": [
    "if torch.cuda.is_available():\n",
    "    device = 'cuda'\n",
    "    torch.set_default_tensor_type('torch.cuda.FloatTensor')\n",
    "else:\n",
    "    device = 'cpu'\n",
    "    torch.set_default_tensor_type('torch.FloatTensor')\n",
    "\n",
    "# cifar10\n",
    "class_name = ['airplane', 'automobile', 'bird', 'cat', 'deer', 'dog', 'frog', 'horse', 'ship', 'truck']\n",
    "\n",
    "model = ResNet18(classes=len(class_name)).to(device)\n",
    "\n",
    "model.load_state_dict(torch.load('resnet18_model.pth'))\n",
    "\n",
    "model = model.eval()"
   ]
  },
  {
   "cell_type": "code",
   "execution_count": 3,
   "metadata": {},
   "outputs": [
    {
     "data": {
      "text/plain": [
       "<matplotlib.image.AxesImage at 0x1b310f61630>"
      ]
     },
     "execution_count": 3,
     "metadata": {},
     "output_type": "execute_result"
    },
    {
     "data": {
      "image/png": "[encoded data removed]",
      "text/plain": [
       "<Figure size 432x288 with 1 Axes>"
      ]
     },
     "metadata": {
      "needs_background": "light"
     },
     "output_type": "display_data"
    }
   ],
   "source": [
    "from PIL import Image\n",
    "import matplotlib.pyplot as plt\n",
    "\n",
    "img_path = './test/test4.png'\n",
    "\n",
    "img = Image.open(img_path)\n",
    "\n",
    "plt.imshow(img)"
   ]
  },
  {
   "cell_type": "code",
   "execution_count": 4,
   "metadata": {},
   "outputs": [],
   "source": [
    "import torchvision.transforms as transforms\n",
    "from torch.autograd import Variable\n",
    "\n",
    "cvt_tensor = transforms.Compose([transforms.Resize((128,128)),\n",
    "                                 transforms.ToTensor()])\n",
    "\n",
    "tensor_img = cvt_tensor(img).to(device)\n",
    "\n",
    "tensor_img = tensor_img.view(1, 3, 128, 128)"
   ]
  },
  {
   "cell_type": "code",
   "execution_count": 5,
   "metadata": {},
   "outputs": [],
   "source": [
    "gradients = []\n",
    "\n",
    "def save_gradient(grad):\n",
    "    gradients.append(grad)\n",
    "    \n",
    "datas = Variable(tensor_img)\n",
    "\n",
    "feature = datas[0].unsqueeze(0)"
   ]
  },
  {
   "cell_type": "code",
   "execution_count": 6,
   "metadata": {},
   "outputs": [
    {
     "name": "stdout",
     "output_type": "stream",
     "text": [
      "conv1\n",
      "bn1\n",
      "relu1\n",
      "max_pool1\n",
      "Block1\n",
      "Block2\n",
      "Block3\n",
      "Block4\n",
      "avg_pool2\n",
      "dense1\n"
     ]
    }
   ],
   "source": [
    "for name,_ in model.named_children():\n",
    "    print(name)"
   ]
  },
  {
   "cell_type": "code",
   "execution_count": 7,
   "metadata": {},
   "outputs": [
    {
     "name": "stdout",
     "output_type": "stream",
     "text": [
      "torch.Size([1, 3, 128, 128])\n",
      "torch.Size([1, 64, 64, 64])\n",
      "torch.Size([1, 64, 64, 64])\n",
      "torch.Size([1, 64, 64, 64])\n",
      "torch.Size([1, 64, 32, 32])\n",
      "torch.Size([1, 64, 32, 32])\n",
      "torch.Size([1, 128, 16, 16])\n",
      "torch.Size([1, 256, 8, 8])\n",
      "torch.Size([1, 512, 4, 4])\n",
      "torch.Size([1, 512, 1, 1])\n"
     ]
    }
   ],
   "source": [
    "for name, module in model.named_children():\n",
    "    print(feature.shape)\n",
    "    if name == 'dense1':\n",
    "        feature = feature.view(feature.size(0), -1)\n",
    "    feature = module(feature)\n",
    "    if name == 'Block4':\n",
    "        feature.register_hook(save_gradient)\n",
    "        final_conv = feature"
   ]
  },
  {
   "cell_type": "code",
   "execution_count": 8,
   "metadata": {},
   "outputs": [],
   "source": [
    "import torch.nn.functional as F\n",
    "\n",
    "classes = torch.sigmoid(feature)\n",
    "#classes = F.softmax(feature)"
   ]
  },
  {
   "cell_type": "code",
   "execution_count": 9,
   "metadata": {},
   "outputs": [
    {
     "name": "stdout",
     "output_type": "stream",
     "text": [
      "torch.return_types.sort(\n",
      "values=tensor([9.9986e-01, 1.1029e-06, 5.4337e-07, 5.0823e-07, 3.7248e-07, 1.4401e-07,\n",
      "        3.4313e-08, 2.7823e-08, 9.2976e-09, 1.8043e-10]),\n",
      "indices=tensor([5, 3, 6, 0, 9, 2, 1, 4, 8, 7]))\n"
     ]
    }
   ],
   "source": [
    "print(classes.data[0].sort(0, True))"
   ]
  },
  {
   "cell_type": "code",
   "execution_count": 10,
   "metadata": {},
   "outputs": [
    {
     "name": "stdout",
     "output_type": "stream",
     "text": [
      "torch.return_types.max(\n",
      "values=tensor(0.9999),\n",
      "indices=tensor(5))\n"
     ]
    }
   ],
   "source": [
    "print(classes.data[0].max(dim=-1))"
   ]
  },
  {
   "cell_type": "code",
   "execution_count": 11,
   "metadata": {},
   "outputs": [],
   "source": [
    "one_hot, _ = classes.max(dim=-1)\n",
    "\n",
    "one_hot.backward()"
   ]
  },
  {
   "cell_type": "code",
   "execution_count": 12,
   "metadata": {},
   "outputs": [],
   "source": [
    "final_conv = final_conv.squeeze(0)\n",
    "\n",
    "weight = gradients[0].mean(dim=-1, keepdim=True).mean(dim=-2, keepdim=True)\n",
    "weights = torch.mean(gradients[0], [0,2,3]).cpu().numpy()\n",
    "\n",
    "activations = final_conv.detach().cpu().numpy()"
   ]
  },
  {
   "cell_type": "code",
   "execution_count": 13,
   "metadata": {},
   "outputs": [
    {
     "name": "stdout",
     "output_type": "stream",
     "text": [
      "[[0.0000000e+00 3.3016484e-05 1.8567309e-05 0.0000000e+00]\n",
      " [4.5620069e-05 2.6030801e-04 1.3233650e-04 5.7146888e-05]\n",
      " [6.7924389e-05 3.9059564e-04 1.6550974e-04 4.6763576e-05]\n",
      " [6.3725574e-06 4.5472567e-05 2.0885951e-05 0.0000000e+00]]\n"
     ]
    }
   ],
   "source": [
    "mask = F.relu((weight * final_conv).sum(dim=1)).squeeze(0)\n",
    "mask = mask.detach().cpu().numpy()\n",
    "\n",
    "print(mask)"
   ]
  },
  {
   "cell_type": "code",
   "execution_count": 14,
   "metadata": {},
   "outputs": [],
   "source": [
    "cam = np.zeros(dtype=np.float32, shape=final_conv.shape[1:3])\n",
    "\n",
    "for i,w in enumerate(weights):\n",
    "    cam += w*activations[i,:,:]"
   ]
  },
  {
   "cell_type": "code",
   "execution_count": 15,
   "metadata": {},
   "outputs": [
    {
     "data": {
      "text/plain": [
       "array([[-9.6727217e-06,  3.3016488e-05,  1.8567309e-05, -5.5435515e-07],\n",
       "       [ 4.5620083e-05,  2.6030801e-04,  1.3233648e-04,  5.7146881e-05],\n",
       "       [ 6.7924397e-05,  3.9059567e-04,  1.6550980e-04,  4.6763573e-05],\n",
       "       [ 6.3725579e-06,  4.5472563e-05,  2.0885942e-05, -1.7381557e-05]],\n",
       "      dtype=float32)"
      ]
     },
     "execution_count": 15,
     "metadata": {},
     "output_type": "execute_result"
    }
   ],
   "source": [
    "cam"
   ]
  },
  {
   "cell_type": "code",
   "execution_count": 16,
   "metadata": {},
   "outputs": [],
   "source": [
    "def scaling(cam):\n",
    "    cam = cam - np.min(cam)\n",
    "    cam = cam / np.max(cam)\n",
    "    \n",
    "    return cam"
   ]
  },
  {
   "cell_type": "code",
   "execution_count": 17,
   "metadata": {},
   "outputs": [],
   "source": [
    "cam = scaling(cam)\n",
    "mask = scaling(mask)"
   ]
  },
  {
   "cell_type": "code",
   "execution_count": 18,
   "metadata": {},
   "outputs": [
    {
     "data": {
      "text/plain": [
       "array([[0.        , 0.08452855, 0.04753589, 0.        ],\n",
       "       [0.11679615, 0.6664386 , 0.3388069 , 0.14630704],\n",
       "       [0.1738995 , 1.        , 0.42373678, 0.11972375],\n",
       "       [0.01631497, 0.11641852, 0.05347205, 0.        ]], dtype=float32)"
      ]
     },
     "execution_count": 18,
     "metadata": {},
     "output_type": "execute_result"
    }
   ],
   "source": [
    "mask"
   ]
  },
  {
   "cell_type": "code",
   "execution_count": 19,
   "metadata": {},
   "outputs": [
    {
     "data": {
      "text/plain": [
       "<matplotlib.image.AxesImage at 0x1b32f74c7f0>"
      ]
     },
     "execution_count": 19,
     "metadata": {},
     "output_type": "execute_result"
    },
    {
     "data": {
      "image/png": "[encoded data removed]",
      "text/plain": [
       "<Figure size 720x720 with 3 Axes>"
      ]
     },
     "metadata": {
      "needs_background": "light"
     },
     "output_type": "display_data"
    }
   ],
   "source": [
    "import cv2\n",
    "\n",
    "fig, axs = plt.subplots(1, 3, figsize=(10,10))\n",
    "\n",
    "axs[0].imshow(mask)\n",
    "\n",
    "resized_cam = cv2.resize(mask, (128, 128))\n",
    "\n",
    "axs[1].imshow(resized_cam)\n",
    "\n",
    "heatmap = cv2.applyColorMap(np.uint8(255 * resized_cam), cv2.COLORMAP_JET)\n",
    "\n",
    "img = cv2.imread(img_path)\n",
    "img = cv2.resize(img, (128,128))\n",
    "heatimg = heatmap*0.3 + img*0.5\n",
    "cv2.imwrite('./cam.jpg', heatimg)\n",
    "\n",
    "cam_img = cv2.imread('./cam.jpg')\n",
    "cam_img = cv2.cvtColor(cam_img, cv2.COLOR_BGR2RGB)\n",
    "\n",
    "axs[2].imshow(cam_img)"
   ]
  },
  {
   "cell_type": "code",
   "execution_count": null,
   "metadata": {},
   "outputs": [],
   "source": []
  },
  {
   "cell_type": "code",
   "execution_count": null,
   "metadata": {},
   "outputs": [],
   "source": []
  }
 ],
 "metadata": {
  "kernelspec": {
   "display_name": "tensorflow",
   "language": "python",
   "name": "tensorflow"
  },
  "language_info": {
   "codemirror_mode": {
    "name": "ipython",
    "version": 3
   },
   "file_extension": ".py",
   "mimetype": "text/x-python",
   "name": "python",
   "nbconvert_exporter": "python",
   "pygments_lexer": "ipython3",
   "version": "3.5.6"
  }
 },
 "nbformat": 4,
 "nbformat_minor": 2
}
